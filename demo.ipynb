{
 "cells": [
  {
   "cell_type": "code",
   "execution_count": 8,
   "metadata": {},
   "outputs": [],
   "source": [
    "import numpy as np\n",
    "import tifffile as tiff"
   ]
  },
  {
   "cell_type": "code",
   "execution_count": 2,
   "metadata": {},
   "outputs": [],
   "source": [
    "file = r\"C:\\Users\\dongq\\OneDrive\\OCULAR Files\\Image\\05052023 mouse 3w\\Image 000004.tif\""
   ]
  },
  {
   "cell_type": "code",
   "execution_count": 36,
   "metadata": {},
   "outputs": [],
   "source": [
    "im = tiff.imread(file)"
   ]
  },
  {
   "cell_type": "code",
   "execution_count": 13,
   "metadata": {},
   "outputs": [],
   "source": [
    "immetadata = tiff.TiffFile(file).pages[0].tags"
   ]
  },
  {
   "cell_type": "code",
   "execution_count": 15,
   "metadata": {},
   "outputs": [
    {
     "name": "stdout",
     "output_type": "stream",
     "text": [
      "TiffTag 254 NewSubfileType @10 LONG @18 = UNDEFINED\n",
      "TiffTag 256 ImageWidth @22 LONG @30 = 1376\n",
      "TiffTag 257 ImageLength @34 LONG @42 = 1024\n",
      "TiffTag 258 BitsPerSample @46 SHORT @54 = 16\n",
      "TiffTag 259 Compression @58 SHORT @66 = NONE\n",
      "TiffTag 262 PhotometricInterpretation @70 SHORT @78 = MINISBLACK\n",
      "TiffTag 266 FillOrder @82 SHORT @90 = MSB2LSB\n",
      "TiffTag 273 StripOffsets @94 LONG @102 = (258,)\n",
      "TiffTag 277 SamplesPerPixel @106 SHORT @114 = 1\n",
      "TiffTag 278 RowsPerStrip @118 LONG @126 = 1024\n",
      "TiffTag 279 StripByteCounts @130 LONG @138 = (2818048,)\n",
      "TiffTag 282 XResolution @142 RATIONAL @242 = (1376, 4)\n",
      "TiffTag 283 YResolution @154 RATIONAL @250 = (1376, 4)\n",
      "TiffTag 296 ResolutionUnit @166 SHORT @174 = INCH\n",
      "TiffTag 339 SampleFormat @178 SHORT @186 = UINT\n",
      "TiffTag 33821 @190 SHORT @198 = 60\n",
      "TiffTag 33826 @202 ASCII[12041] @2818306 = <?xml version=\"1.0\" encoding=\"UTF-8\"\n",
      "TiffTag 33827 @214 LONG @222 = 3\n",
      "TiffTag 33828 @226 LONG @234 = 1\n"
     ]
    }
   ],
   "source": [
    "for i in immetadata:\n",
    "    print(i)"
   ]
  },
  {
   "cell_type": "code",
   "execution_count": 16,
   "metadata": {},
   "outputs": [],
   "source": [
    "file2 = r\"C:\\Users\\dongq\\OneDrive\\OCULAR Files\\Image\\0127\\0128\\40x-1.tif\""
   ]
  },
  {
   "cell_type": "code",
   "execution_count": 17,
   "metadata": {},
   "outputs": [],
   "source": [
    "im2 = tiff.TiffFile(file2).pages[0].tags"
   ]
  },
  {
   "cell_type": "code",
   "execution_count": 18,
   "metadata": {},
   "outputs": [
    {
     "name": "stdout",
     "output_type": "stream",
     "text": [
      "TiffTag 254 NewSubfileType @10 LONG @18 = UNDEFINED\n",
      "TiffTag 256 ImageWidth @22 LONG @30 = 1376\n",
      "TiffTag 257 ImageLength @34 LONG @42 = 1024\n",
      "TiffTag 258 BitsPerSample @46 SHORT @54 = 16\n",
      "TiffTag 259 Compression @58 SHORT @66 = NONE\n",
      "TiffTag 262 PhotometricInterpretation @70 SHORT @78 = MINISBLACK\n",
      "TiffTag 270 ImageDescription @82 ASCII[47] @206 = ImageJ=1.53t unit=\\u00B5m min\n",
      "TiffTag 273 StripOffsets @94 LONG @102 = (753,)\n",
      "TiffTag 277 SamplesPerPixel @106 SHORT @114 = 1\n",
      "TiffTag 278 RowsPerStrip @118 SHORT @126 = 1024\n",
      "TiffTag 279 StripByteCounts @130 LONG @138 = (2818048,)\n",
      "TiffTag 282 XResolution @142 RATIONAL @253 = (6000000, 1000000)\n",
      "TiffTag 283 YResolution @154 RATIONAL @261 = (6000000, 1000000)\n",
      "TiffTag 296 ResolutionUnit @166 SHORT @174 = NONE\n",
      "TiffTag 50838 IJMetadataByteCounts @178 LONG[4] @269 = (20, 128, 136, 184)\n",
      "TiffTag 50839 IJMetadata @190 BYTE[468] @285 = {'Overlays': [b'Iout\\x00\\xe4\\x01\n"
     ]
    }
   ],
   "source": [
    "for i in im2:\n",
    "    print(i)"
   ]
  },
  {
   "cell_type": "code",
   "execution_count": 19,
   "metadata": {},
   "outputs": [
    {
     "name": "stdout",
     "output_type": "stream",
     "text": [
      "TiffTag 254 NewSubfileType @10 LONG @18 = UNDEFINED\n",
      "TiffTag 256 ImageWidth @22 LONG @30 = 512\n",
      "TiffTag 257 ImageLength @34 LONG @42 = 512\n",
      "TiffTag 258 BitsPerSample @46 SHORT @54 = 16\n",
      "TiffTag 262 PhotometricInterpretation @58 SHORT @66 = MINISBLACK\n",
      "TiffTag 270 ImageDescription @70 ASCII[47] @182 = ImageJ=1.51n unit=micron min=\n",
      "TiffTag 273 StripOffsets @82 LONG @90 = (1781,)\n",
      "TiffTag 277 SamplesPerPixel @94 SHORT @102 = 1\n",
      "TiffTag 278 RowsPerStrip @106 SHORT @114 = 512\n",
      "TiffTag 279 StripByteCounts @118 LONG @126 = (524288,)\n",
      "TiffTag 282 XResolution @130 RATIONAL @229 = (795647, 1000000)\n",
      "TiffTag 283 YResolution @142 RATIONAL @237 = (795647, 1000000)\n",
      "TiffTag 296 ResolutionUnit @154 SHORT @162 = NONE\n",
      "TiffTag 320 ColorMap @166 SHORT[768] @245 = array([[0, 0, 0, ..., 0, 0, 0], [0,\n"
     ]
    }
   ],
   "source": [
    "file3 = r\"D:\\Download\\MAX_C2-604 (1).tif\"\n",
    "im3 = tiff.TiffFile(file3).pages[0].tags\n",
    "for i in im3:\n",
    "    print(i)\n"
   ]
  },
  {
   "cell_type": "code",
   "execution_count": 20,
   "metadata": {},
   "outputs": [
    {
     "data": {
      "text/plain": [
       "(1376, 4)"
      ]
     },
     "execution_count": 20,
     "metadata": {},
     "output_type": "execute_result"
    }
   ],
   "source": [
    "immetadata['XResolution'].value"
   ]
  },
  {
   "cell_type": "code",
   "execution_count": 21,
   "metadata": {},
   "outputs": [],
   "source": [
    "resolution = (6000000, 1000000)\n",
    "unit = 'micron'"
   ]
  },
  {
   "cell_type": "code",
   "execution_count": 37,
   "metadata": {},
   "outputs": [],
   "source": [
    "scale = np.max(im) / 255 + 1\n",
    "im = im/scale\n",
    "im = im.astype(np.uint8)"
   ]
  },
  {
   "cell_type": "code",
   "execution_count": 38,
   "metadata": {},
   "outputs": [
    {
     "data": {
      "text/plain": [
       "252"
      ]
     },
     "execution_count": 38,
     "metadata": {},
     "output_type": "execute_result"
    }
   ],
   "source": [
    "im.max()"
   ]
  },
  {
   "cell_type": "code",
   "execution_count": 40,
   "metadata": {},
   "outputs": [],
   "source": [
    "# Create a new dictionary to store modified metadata\n",
    "new_metadata = {}\n",
    "\n",
    "# Copy metadata tags to the new dictionary\n",
    "for tag in immetadata:\n",
    "    new_metadata[tag.name] = tag.value\n",
    "new_metadata['XResolution'] = resolution\n",
    "new_metadata['YResolution'] = resolution\n",
    "new_metadata['ResolutionUnit'] = unit"
   ]
  },
  {
   "cell_type": "code",
   "execution_count": 42,
   "metadata": {},
   "outputs": [],
   "source": [
    "tiff.imwrite('new_image.tif', im, metadata=new_metadata)\n"
   ]
  }
 ],
 "metadata": {
  "kernelspec": {
   "display_name": "Python 3",
   "language": "python",
   "name": "python3"
  },
  "language_info": {
   "codemirror_mode": {
    "name": "ipython",
    "version": 3
   },
   "file_extension": ".py",
   "mimetype": "text/x-python",
   "name": "python",
   "nbconvert_exporter": "python",
   "pygments_lexer": "ipython3",
   "version": "3.11.3"
  },
  "orig_nbformat": 4
 },
 "nbformat": 4,
 "nbformat_minor": 2
}
