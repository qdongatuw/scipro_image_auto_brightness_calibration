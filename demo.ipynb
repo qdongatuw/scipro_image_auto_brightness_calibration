{
 "cells": [
  {
   "cell_type": "code",
   "execution_count": 1,
   "metadata": {},
   "outputs": [],
   "source": [
    "import numpy as np\n",
    "import tifffile as tiff"
   ]
  },
  {
   "cell_type": "code",
   "execution_count": 2,
   "metadata": {},
   "outputs": [],
   "source": [
    "file = r\"C:\\Users\\dongq\\OneDrive\\OCULAR Files\\Image\\05052023 mouse 3w\\Image 000004.tif\""
   ]
  },
  {
   "cell_type": "code",
   "execution_count": 3,
   "metadata": {},
   "outputs": [],
   "source": [
    "im = tiff.imread(file)"
   ]
  },
  {
   "cell_type": "code",
   "execution_count": 13,
   "metadata": {},
   "outputs": [
    {
     "data": {
      "text/plain": [
       "array([[26831,  6446,  6928, ...,  7012,  7105,  6872],\n",
       "       [ 6220,  6565,  6668, ...,  6879,  7187,  6963],\n",
       "       [ 6181,  6189,  6678, ...,  6842,  7096,  7331],\n",
       "       ...,\n",
       "       [ 6624,  6642,  6295, ...,  7011,  6993,  6809],\n",
       "       [ 6462,  6375,  6338, ...,  6792,  6993,  6884],\n",
       "       [ 6444,  6449,  6463, ...,  6704,  6904,  6849]], dtype=uint16)"
      ]
     },
     "execution_count": 13,
     "metadata": {},
     "output_type": "execute_result"
    }
   ],
   "source": [
    "im"
   ]
  },
  {
   "cell_type": "code",
   "execution_count": 50,
   "metadata": {},
   "outputs": [],
   "source": [
    "immetadata = tiff.TiffFile(file).pages[0].tags"
   ]
  },
  {
   "cell_type": "code",
   "execution_count": 51,
   "metadata": {},
   "outputs": [
    {
     "name": "stdout",
     "output_type": "stream",
     "text": [
      "TiffTag 254 NewSubfileType @10 LONG @18 = UNDEFINED\n",
      "TiffTag 256 ImageWidth @22 LONG @30 = 1376\n",
      "TiffTag 257 ImageLength @34 LONG @42 = 1024\n",
      "TiffTag 258 BitsPerSample @46 SHORT @54 = 16\n",
      "TiffTag 259 Compression @58 SHORT @66 = NONE\n",
      "TiffTag 262 PhotometricInterpretation @70 SHORT @78 = MINISBLACK\n",
      "TiffTag 266 FillOrder @82 SHORT @90 = MSB2LSB\n",
      "TiffTag 273 StripOffsets @94 LONG @102 = (258,)\n",
      "TiffTag 277 SamplesPerPixel @106 SHORT @114 = 1\n",
      "TiffTag 278 RowsPerStrip @118 LONG @126 = 1024\n",
      "TiffTag 279 StripByteCounts @130 LONG @138 = (2818048,)\n",
      "TiffTag 282 XResolution @142 RATIONAL @242 = (6000000, 1000000)\n",
      "TiffTag 283 YResolution @154 RATIONAL @250 = (6000000, 1000000)\n",
      "TiffTag 296 ResolutionUnit @166 SHORT @174 = MICROMETER\n",
      "TiffTag 339 SampleFormat @178 SHORT @186 = UINT\n",
      "TiffTag 33821 @190 SHORT @198 = 60\n",
      "TiffTag 33826 @202 ASCII[12041] @2818306 = <?xml version=\"1.0\" encoding=\"UTF-8\"\n",
      "TiffTag 33827 @214 LONG @222 = 3\n",
      "TiffTag 33828 @226 LONG @234 = 1\n"
     ]
    }
   ],
   "source": [
    "for i in immetadata:\n",
    "    print(i)"
   ]
  },
  {
   "cell_type": "code",
   "execution_count": 11,
   "metadata": {},
   "outputs": [
    {
     "data": {
      "text/plain": [
       "<tifffile.TiffTag 282 XResolution @142>"
      ]
     },
     "execution_count": 11,
     "metadata": {},
     "output_type": "execute_result"
    }
   ],
   "source": [
    "immetadata['XResolution'].value"
   ]
  },
  {
   "cell_type": "code",
   "execution_count": 9,
   "metadata": {},
   "outputs": [],
   "source": [
    "resolution = (6000000, 1000000)\n",
    "unit = 5"
   ]
  },
  {
   "cell_type": "code",
   "execution_count": 3,
   "metadata": {},
   "outputs": [],
   "source": [
    "arr = np.asarray([[1,2,4,8,10],\n",
    "                 [1,3,5,8,11],\n",
    "                 [2,4,5,10,11],\n",
    "                 [1,2,4,9,10]])\n",
    "                 "
   ]
  },
  {
   "cell_type": "code",
   "execution_count": 9,
   "metadata": {},
   "outputs": [],
   "source": [
    "hist, bins = np.histogram(arr, bins=50)\n",
    "hist = np.cumsum(hist)\n",
    "tmp = np.interp(arr.flatten(), bins[:-1], hist)\n",
    "new_arr = tmp.reshape(arr.shape)"
   ]
  },
  {
   "cell_type": "code",
   "execution_count": 8,
   "metadata": {},
   "outputs": [
    {
     "data": {
      "text/plain": [
       "(array([3, 0, 0, 0, 0, 3, 0, 0, 0, 0, 1, 0, 0, 0, 0, 3, 0, 0, 0, 0, 2, 0,\n",
       "        0, 0, 0, 0, 0, 0, 0, 0, 0, 0, 0, 0, 0, 2, 0, 0, 0, 0, 1, 0, 0, 0,\n",
       "        0, 3, 0, 0, 0, 2], dtype=int64),\n",
       " array([ 1. ,  1.2,  1.4,  1.6,  1.8,  2. ,  2.2,  2.4,  2.6,  2.8,  3. ,\n",
       "         3.2,  3.4,  3.6,  3.8,  4. ,  4.2,  4.4,  4.6,  4.8,  5. ,  5.2,\n",
       "         5.4,  5.6,  5.8,  6. ,  6.2,  6.4,  6.6,  6.8,  7. ,  7.2,  7.4,\n",
       "         7.6,  7.8,  8. ,  8.2,  8.4,  8.6,  8.8,  9. ,  9.2,  9.4,  9.6,\n",
       "         9.8, 10. , 10.2, 10.4, 10.6, 10.8, 11. ]))"
      ]
     },
     "execution_count": 8,
     "metadata": {},
     "output_type": "execute_result"
    }
   ],
   "source": [
    "(hist, bins)"
   ]
  },
  {
   "cell_type": "code",
   "execution_count": 106,
   "metadata": {},
   "outputs": [
    {
     "data": {
      "text/plain": [
       "array([ 1,  2,  4,  8, 10,  1,  3,  5,  8, 11,  2,  4,  5, 10, 11,  1,  2,\n",
       "        4,  9, 10])"
      ]
     },
     "execution_count": 106,
     "metadata": {},
     "output_type": "execute_result"
    }
   ],
   "source": [
    "arr.flatten()"
   ]
  },
  {
   "cell_type": "code",
   "execution_count": 10,
   "metadata": {},
   "outputs": [
    {
     "data": {
      "text/plain": [
       "array([[ 3.,  6., 10., 14., 18.],\n",
       "       [ 3.,  7., 12., 14., 20.],\n",
       "       [ 6., 10., 12., 18., 20.],\n",
       "       [ 3.,  6., 10., 15., 18.]])"
      ]
     },
     "execution_count": 10,
     "metadata": {},
     "output_type": "execute_result"
    }
   ],
   "source": [
    "new_arr"
   ]
  },
  {
   "cell_type": "code",
   "execution_count": 7,
   "metadata": {},
   "outputs": [
    {
     "data": {
      "image/png": "[encoded data removed]",
      "text/plain": [
       "<Figure size 640x480 with 1 Axes>"
      ]
     },
     "metadata": {},
     "output_type": "display_data"
    }
   ],
   "source": [
    "import matplotlib.pyplot as plt\n",
    "hist, bins, _ = plt.hist(im.flatten(), 100, density=True, cumulative=True, histtype='step', color='red')\n",
    "plt.show()\n",
    "# hist = np.cumsum(hist)\n",
    "new_density = np.interp(im.flatten(), bins[:-1], hist)\n",
    "new_im = new_density.reshape(im.shape)\n",
    "# k = new_im.max() / 255 + 1\n",
    "# new_im /= k\n",
    "# new_im = new_im.astype(np.uint8)\n"
   ]
  },
  {
   "cell_type": "code",
   "execution_count": 23,
   "metadata": {},
   "outputs": [
    {
     "data": {
      "text/plain": [
       "array([1409023, 1409023, 1409023, 1409023, 1409024], dtype=int64)"
      ]
     },
     "execution_count": 23,
     "metadata": {},
     "output_type": "execute_result"
    }
   ],
   "source": [
    "hist"
   ]
  },
  {
   "cell_type": "code",
   "execution_count": 8,
   "metadata": {},
   "outputs": [
    {
     "data": {
      "text/plain": [
       "(<Figure size 988.8x604.8 with 2 Axes>,\n",
       " <Axes: >,\n",
       " <matplotlib.image.AxesImage at 0x1f7cfe63550>)"
      ]
     },
     "execution_count": 8,
     "metadata": {},
     "output_type": "execute_result"
    },
    {
     "data": {
      "image/png": "[encoded data removed]",
      "text/plain": [
       "<Figure size 988.8x604.8 with 2 Axes>"
      ]
     },
     "metadata": {},
     "output_type": "display_data"
    }
   ],
   "source": [
    "tiff.imshow(new_im, cmap='gray')"
   ]
  },
  {
   "cell_type": "code",
   "execution_count": 88,
   "metadata": {},
   "outputs": [],
   "source": [
    "tiff.imwrite('tmp.tif', new_im)"
   ]
  },
  {
   "cell_type": "code",
   "execution_count": 18,
   "metadata": {},
   "outputs": [],
   "source": [
    "# Create a new dictionary to store modified metadata\n",
    "new_metadata = {}\n",
    "\n",
    "# Copy metadata tags to the new dictionary\n",
    "for tag in immetadata:\n",
    "    new_metadata[tag.name] = tag.value\n",
    "new_metadata['XResolution'] = (100, 4)\n",
    "new_metadata['YResolution'] = resolution\n",
    "new_metadata['ResolutionUnit'] = unit"
   ]
  },
  {
   "cell_type": "code",
   "execution_count": 26,
   "metadata": {},
   "outputs": [
    {
     "data": {
      "text/plain": [
       "{'NewSubfileType': <FILETYPE.UNDEFINED: 0>,\n",
       " 'ImageWidth': 1376,\n",
       " 'ImageLength': 1024,\n",
       " 'BitsPerSample': 16,\n",
       " 'Compression': <COMPRESSION.NONE: 1>,\n",
       " 'PhotometricInterpretation': <PHOTOMETRIC.MINISBLACK: 1>,\n",
       " 'FillOrder': <FILLORDER.MSB2LSB: 1>,\n",
       " 'StripOffsets': (258,),\n",
       " 'SamplesPerPixel': 1,\n",
       " 'RowsPerStrip': 1024,\n",
       " 'StripByteCounts': (2818048,),\n",
       " 'XResolution': (100, 4),\n",
       " 'YResolution': (6000000, 1000000),\n",
       " 'ResolutionUnit': 'micron',\n",
       " 'SampleFormat': <SAMPLEFORMAT.UINT: 1>,\n",
       " '33821': 60,\n",
       " '33826': '<?xml version=\"1.0\" encoding=\"UTF-8\" ?>\\r\\n<database>\\r\\n<attachments>\\r\\n<displaysettings>\\r\\n<brightness>0</brightness>\\r\\n<contrast>0</contrast>\\r\\n<gamma>1.00</gamma>\\r\\n<rgb>\\r\\n<brightness>0,0,0</brightness>\\r\\n<contrast>0,0,0</contrast>\\r\\n<gamma>1.00,1.00,1.00</gamma>\\r\\n</rgb>\\r\\n<displaymodes>\\r\\n<scan>Fixed</scan>\\r\\n<type>Complete</type>\\r\\n<framemode>Active</framemode>\\r\\n<complexmode>Normal</complexmode>\\r\\n<complexpart>Real</complexpart>\\r\\n<colormode>Normal</colormode>\\r\\n<colorparts>Red+Green+Blue</colorparts>\\r\\n<region>\\r\\n<x1>0</x1>\\r\\n<y1>0</y1>\\r\\n<x2>0</x2>\\r\\n<y2>0</y2>\\r\\n</region>\\r\\n<zframe>0</zframe>\\r\\n<tframe>0</tframe>\\r\\n<range>\\r\\n<scalartype>Integer</scalartype>\\r\\n<min>5643</min>\\r\\n<max>7614</max>\\r\\n</range>\\r\\n</displaymodes>\\r\\n<interval>0</interval>\\r\\n</displaysettings>\\r\\n<pvcam-metadata>\\r\\n<camera-state component=\"Settings\">\\r\\n<pvcam>\\r\\n<version>3.9.10</version>\\r\\n</pvcam>\\r\\n<params>\\r\\n<param id=\"{919F79E1-098F-402A-A55F-D7B3B8121DB5}\" type=\"enum\">\\r\\n<name>Binning</name>\\r\\n<value display=\"No Binning\">0x00010001</value>\\r\\n</param>\\r\\n<param id=\"{623A28F4-64CB-403F-812F-6E3E9D050426}\" type=\"integer\">\\r\\n<name>BoF EoF Count</name>\\r\\n<pvcam id=\"0x07030006\"></pvcam>\\r\\n<value display=\"0\">0</value>\\r\\n</param>\\r\\n<param id=\"{ECE0A697-1D39-405A-AF8A-FBF653216854}\" type=\"enum\">\\r\\n<name>BoF EoF Enabled</name>\\r\\n<pvcam id=\"0x09030005\"></pvcam>\\r\\n<value display=\"No Bof or Eof\">0x00000000</value>\\r\\n</param>\\r\\n<param id=\"{6B5439CE-7369-4A27-A398-1A6F3D66A13A}\" type=\"integer\">\\r\\n<name>Camera Firmware Version</name>\\r\\n<pvcam id=\"0x06020214\"></pvcam>\\r\\n<value display=\"14.35\">3619</value>\\r\\n</param>\\r\\n<param id=\"{B8E62301-537B-4C2E-B204-3881ED4D4145}\" type=\"string\">\\r\\n<name>Camera Head Serial Number</name>\\r\\n<pvcam id=\"0x0D020215\"></pvcam>\\r\\n<value display=\"Q55827\">Q55827</value>\\r\\n</param>\\r\\n<param id=\"{1A7F9834-6296-457D-8C4E-798F59545BDC}\" type=\"string\">\\r\\n<name>Camera Part Number</name>\\r\\n<pvcam id=\"0x0D020085\"></pvcam>\\r\\n<value display=\"01-SCIENT-QI825-M-14-C\">01-SCIENT-QI825-M-14-C</value>\\r\\n</param>\\r\\n<param id=\"{6A4A3695-15B4-45B5-B8AA-7793D8FFC982}\" type=\"enum\">\\r\\n<name>Capture Region</name>\\r\\n<value display=\"Full Frame\">0x00000000</value>\\r\\n</param>\\r\\n<param id=\"{A7D2B0FC-E397-45E4-A09C-9C2B14B62F54}\" type=\"string\">\\r\\n<name>Chip Name</name>\\r\\n<pvcam id=\"0x0D020081\"></pvcam>\\r\\n<value display=\"ICX825\">ICX825</value>\\r\\n</param>\\r\\n<param id=\"{24404EF4-F8A9-4E98-8E4D-254BE018953D}\" type=\"boolean\">\\r\\n<name>Circular Buffer Capable</name>\\r\\n<pvcam id=\"0x0B03012B\"></pvcam>\\r\\n<value display=\"Yes\">1</value>\\r\\n</param>\\r\\n<param id=\"{1BC64A64-2CDF-47B2-934A-31B94865C626}\" type=\"boolean\">\\r\\n<name>Clear BoF EoF</name>\\r\\n<pvcam id=\"0x0B030007\"></pvcam>\\r\\n<value display=\"No\">0</value>\\r\\n</param>\\r\\n<param id=\"{9B4043FE-A103-4D7A-9199-CCC2D8A50E00}\" type=\"integer\">\\r\\n<name>Clear Cycles</name>\\r\\n<pvcam id=\"0x06020061\"></pvcam>\\r\\n<value display=\"2\">2</value>\\r\\n</param>\\r\\n<param id=\"{2976E5C3-6839-4935-8BCD-9BCF37ECD496}\" type=\"enum\">\\r\\n<name>Clearing Mode</name>\\r\\n<pvcam id=\"0x0902020B\"></pvcam>\\r\\n<value display=\"Pre-Sequence\">0x00000002</value>\\r\\n</param>\\r\\n<param id=\"{64AF3AA0-25E5-42E4-B519-38234B2E7FC8}\" type=\"boolean\">\\r\\n<name>Color Capable</name>\\r\\n<value display=\"No\">0</value>\\r\\n</param>\\r\\n<param id=\"{612AF244-44E4-4FB7-A653-A32D6844E4FA}\" type=\"enum\">\\r\\n<name>Cooling Mode</name>\\r\\n<pvcam id=\"0x090200D6\"></pvcam>\\r\\n<value display=\"Air or Water\">0x00000000</value>\\r\\n</param>\\r\\n<param id=\"{95E7045B-32C7-445C-BD0A-87E1C49476EE}\" type=\"enum\">\\r\\n<name>Data Destination</name>\\r\\n<value display=\"Memory\">0x00000000</value>\\r\\n</param>\\r\\n<param id=\"{35DDCF78-ECE6-4423-B39C-1AADF4D9FAEF}\" type=\"integer\">\\r\\n<name>Device Driver Retries</name>\\r\\n<pvcam id=\"0x06000003\"></pvcam>\\r\\n<value display=\"1000\">1000</value>\\r\\n</param>\\r\\n<param id=\"{5CCEE863-8AD7-4CEB-AB54-8490D463E10F}\" type=\"integer\">\\r\\n<name>Device Driver Timeout</name>\\r\\n<pvcam id=\"0x06000004\"></pvcam>\\r\\n<value display=\"1000 ms\">1000</value>\\r\\n</param>\\r\\n<param id=\"{A885ECFE-CB47-4334-BE3C-384E62EA3279}\" type=\"integer\">\\r\\n<name>Device Driver Version</name>\\r\\n<pvcam id=\"0x06000002\"></pvcam>\\r\\n<value display=\"31.1.6\">7958</value>\\r\\n</param>\\r\\n<param id=\"{3553EC14-5789-432B-8FCF-D1CAAA3A8DBC}\" type=\"integer\">\\r\\n<name>Exposure Time</name>\\r\\n<value display=\"20 ms\">20000000</value>\\r\\n</param>\\r\\n<param id=\"{A6B2147D-0620-41AC-99D8-BE053DDF5C39}\" type=\"boolean\">\\r\\n<name>Flash Download Capable</name>\\r\\n<pvcam id=\"0x0B02021B\"></pvcam>\\r\\n<value display=\"Yes\">1</value>\\r\\n</param>\\r\\n<param id=\"{1639ADC7-231B-49EF-8845-48F419C20FA8}\" type=\"integer\">\\r\\n<name>Frame Buffer Size</name>\\r\\n<pvcam id=\"0x0803012C\"></pvcam>\\r\\n<value display=\"0\">0</value>\\r\\n</param>\\r\\n<param id=\"{46A64A9C-79A9-410B-8058-3C63832916FC}\" type=\"integer\">\\r\\n<name>Full Well Capacity</name>\\r\\n<pvcam id=\"0x070201FA\"></pvcam>\\r\\n<value display=\"240000 e\">240000</value>\\r\\n</param>\\r\\n<param id=\"{C3606684-6344-4B0E-B038-9D09C11ACA76}\" type=\"enum\">\\r\\n<name>Image Trigger</name>\\r\\n<value display=\"Timed Exposure\">0x00000000</value>\\r\\n</param>\\r\\n<param id=\"{3ADBA079-0310-4B3D-A3A6-06B3FC586045}\" type=\"integer\">\\r\\n<name>IO Address</name>\\r\\n<pvcam id=\"0x0602020F\"></pvcam>\\r\\n<value display=\"0\">0</value>\\r\\n</param>\\r\\n<param id=\"{693B7266-7DCC-4023-BB13-4CD18A458A3E}\" type=\"integer\">\\r\\n<name>IO Bit Depth</name>\\r\\n<pvcam id=\"0x06020213\"></pvcam>\\r\\n<value display=\"2 bits\">2</value>\\r\\n</param>\\r\\n<param id=\"{D1525B48-06E9-4F47-B62E-76D098AB0CD9}\" type=\"enum\">\\r\\n<name>IO Direction</name>\\r\\n<pvcam id=\"0x09020211\"></pvcam>\\r\\n<value display=\"Input Only\">0x00000000</value>\\r\\n</param>\\r\\n<param id=\"{1515B2DE-2C13-4752-9878-0153DBAFB094}\" type=\"float\">\\r\\n<name>IO State</name>\\r\\n<pvcam id=\"0x04020212\"></pvcam>\\r\\n<value display=\"0\">0</value>\\r\\n</param>\\r\\n<param id=\"{C87E57B3-3D67-4909-ADA6-5070873C3BB1}\" type=\"enum\">\\r\\n<name>IO Type</name>\\r\\n<pvcam id=\"0x09020210\"></pvcam>\\r\\n<value display=\"TTL Port\">0x00000000</value>\\r\\n</param>\\r\\n<param id=\"{0BBECAE9-D15C-4544-81E1-C8D507D820ED}\" type=\"integer\">\\r\\n<name>Minimum Circular Buffer Frames</name>\\r\\n<value display=\"3\">3</value>\\r\\n</param>\\r\\n<param id=\"{D96983F5-FAB8-4C2B-83D9-F1EE9135889D}\" type=\"integer\">\\r\\n<name>Movie Duration</name>\\r\\n<value display=\"0 sec\">0</value>\\r\\n</param>\\r\\n<param id=\"{60156D38-20ED-4D66-8E12-D8003C75728B}\" type=\"integer\">\\r\\n<name>Movie Frame Count</name>\\r\\n<value display=\"1\">1</value>\\r\\n</param>\\r\\n<param id=\"{DEAC746F-F5FE-418D-86C9-5F039E0141AF}\" type=\"enum\">\\r\\n<name>Movie Method</name>\\r\\n<value display=\"Elapsed Time\">0x00000000</value>\\r\\n</param>\\r\\n<param id=\"{9DF80236-88D7-4037-9462-C1BEB383C73D}\" type=\"integer\">\\r\\n<name>Movie Time-lapse Interval</name>\\r\\n<value display=\"0 sec\">0</value>\\r\\n</param>\\r\\n<param id=\"{39500A8D-D677-4967-8FFC-2D378B8D69D2}\" type=\"enum\">\\r\\n<name>Movie Trigger</name>\\r\\n<value display=\"Time-lapse\">0x00000001</value>\\r\\n</param>\\r\\n<param id=\"{1397CD59-127B-4940-A768-3979B01430FD}\" type=\"enum\">\\r\\n<name>Parallel Clocking Mode</name>\\r\\n<pvcam id=\"0x0902020C\"></pvcam>\\r\\n<value display=\"Normal\">0x00000000</value>\\r\\n</param>\\r\\n<param id=\"{F0EC3EEF-F7E8-43FC-9903-003CB899AB87}\" type=\"integer\">\\r\\n<name>Parallel Pixel Distance</name>\\r\\n<pvcam id=\"0x060201F4\"></pvcam>\\r\\n<value display=\"6450 nm\">6450</value>\\r\\n</param>\\r\\n<param id=\"{7FE0022D-4C94-4E62-B567-E6A71EA56262}\" type=\"integer\">\\r\\n<name>Parallel Pixel Size</name>\\r\\n<pvcam id=\"0x0602003F\"></pvcam>\\r\\n<value display=\"6450 nm\">6450</value>\\r\\n</param>\\r\\n<param id=\"{28B5C590-317D-4DF0-9871-D5C4A88C1424}\" type=\"integer\">\\r\\n<name>Parallel Post-mask</name>\\r\\n<pvcam id=\"0x06020036\"></pvcam>\\r\\n<value display=\"8\">8</value>\\r\\n</param>\\r\\n<param id=\"{F597E245-0142-4A51-B51A-FAD1CFCD8C39}\" type=\"integer\">\\r\\n<name>Parallel Pre-mask</name>\\r\\n<pvcam id=\"0x06020035\"></pvcam>\\r\\n<value display=\"22\">22</value>\\r\\n</param>\\r\\n<param id=\"{7ADBD063-F3FF-4A4F-9F65-5DD4E4231E94}\" type=\"integer\">\\r\\n<name>Parallel Size</name>\\r\\n<pvcam id=\"0x06020039\"></pvcam>\\r\\n<value display=\"1024\">1024</value>\\r\\n</param>\\r\\n<param id=\"{49781E0C-98AE-4F8C-9D52-BD075D2233C0}\" type=\"integer\">\\r\\n<name>PCI Firmware Version</name>\\r\\n<pvcam id=\"0x06020216\"></pvcam>\\r\\n<value display=\"1\">1</value>\\r\\n</param>\\r\\n<param id=\"{1C0D51D1-55C7-4757-B399-89351323CFB3}\" type=\"string\">\\r\\n<name>Pixel Centers</name>\\r\\n<value display=\"6450 x 6450 nm\">6450 x 6450</value>\\r\\n</param>\\r\\n<param id=\"{1037EB49-C4A8-4CF7-B3B1-47F16BD36E15}\" type=\"string\">\\r\\n<name>Pixel Size</name>\\r\\n<value display=\"6450 x 6450 nm\">6450 x 6450</value>\\r\\n</param>\\r\\n<param id=\"{B3684F3E-CD9F-44C5-A88D-353975D6ACF8}\" type=\"integer\">\\r\\n<name>Preamplifier Delay</name>\\r\\n<pvcam id=\"0x060201F6\"></pvcam>\\r\\n<value display=\"5 ms\">5</value>\\r\\n</param>\\r\\n<param id=\"{1878D9B2-AACB-43FF-8044-86DC87CEC3B4}\" type=\"integer\">\\r\\n<name>Preamplifier Off Control</name>\\r\\n<pvcam id=\"0x070201FB\"></pvcam>\\r\\n<value display=\"10000 ms\">10000</value>\\r\\n</param>\\r\\n<param id=\"{879479F0-15E9-4169-874A-3DEEAB376FAB}\" type=\"string\">\\r\\n<name>Product Name</name>\\r\\n<pvcam id=\"0x0D020084\"></pvcam>\\r\\n<value display=\"SciCamPro\">SciCamPro</value>\\r\\n</param>\\r\\n<param id=\"{EC1871FC-CFE7-494E-AB9A-FDD15080A426}\" type=\"readout\">\\r\\n<name>Readout</name>\\r\\n<pvcam id=\"0x090200F7\">\\r\\n<name>Port</name>\\r\\n<value display=\"Normal\">0x00000000</value>\\r\\n</pvcam>\\r\\n<pvcam id=\"0x01020201\">\\r\\n<name>Speed</name>\\r\\n<value display=\"50 MHz\">0</value>\\r\\n</pvcam>\\r\\n<pvcam id=\"0x06020204\">\\r\\n<name>Pixel Time</name>\\r\\n<value display=\"20 ns\">20</value>\\r\\n</pvcam>\\r\\n<pvcam id=\"0x010201FF\">\\r\\n<name>Bits</name>\\r\\n<value display=\"14 bits\">14</value>\\r\\n</pvcam>\\r\\n<pvcam id=\"0x01020200\">\\r\\n<name>Gain Index</name>\\r\\n<value display=\"1\">1</value>\\r\\n</pvcam>\\r\\n<pvcam id=\"0x010200C3\">\\r\\n<name>ADC Offset</name>\\r\\n<value display=\"100\">100</value>\\r\\n</pvcam>\\r\\n</param>\\r\\n<param id=\"{AC23D26C-51F9-48BB-B88F-96ACB16DD855}\" type=\"string\">\\r\\n<name>Sensor Size</name>\\r\\n<value display=\"1376 x 1024\">1376 x 1024</value>\\r\\n</param>\\r\\n<param id=\"{BFC82B86-A1F3-409B-BE6B-23ACB2BA7811}\" type=\"integer\">\\r\\n<name>Serial Pixel Distance</name>\\r\\n<pvcam id=\"0x060201F5\"></pvcam>\\r\\n<value display=\"6450 nm\">6450</value>\\r\\n</param>\\r\\n<param id=\"{BD4CAEB9-A9C3-41D6-A378-1F751D7A6337}\" type=\"integer\">\\r\\n<name>Serial Pixel Size</name>\\r\\n<pvcam id=\"0x0602003E\"></pvcam>\\r\\n<value display=\"6450 nm\">6450</value>\\r\\n</param>\\r\\n<param id=\"{24B0F4C2-0D31-43F3-AB60-B11CF077A606}\" type=\"integer\">\\r\\n<name>Serial Post-scan</name>\\r\\n<pvcam id=\"0x06020038\"></pvcam>\\r\\n<value display=\"47\">47</value>\\r\\n</param>\\r\\n<param id=\"{7550EFED-E3BA-4017-8BF8-4D28B7F6CE6A}\" type=\"integer\">\\r\\n<name>Serial Pre-scan</name>\\r\\n<pvcam id=\"0x06020037\"></pvcam>\\r\\n<value display=\"47\">47</value>\\r\\n</param>\\r\\n<param id=\"{E8014C1F-07FA-47D3-8249-0F38FC2AA769}\" type=\"integer\">\\r\\n<name>Serial Size</name>\\r\\n<pvcam id=\"0x0602003A\"></pvcam>\\r\\n<value display=\"1376\">1376</value>\\r\\n</param>\\r\\n<param id=\"{3401AA32-205F-49A4-9BAB-9DA1BBF3A6E5}\" type=\"integer\">\\r\\n<name>Shutter Close Delay</name>\\r\\n<pvcam id=\"0x06020207\"></pvcam>\\r\\n<value display=\"0 ms\">0</value>\\r\\n</param>\\r\\n<param id=\"{16E9180E-BE2B-497C-B3CE-989640C2D52B}\" type=\"integer\">\\r\\n<name>Shutter Open Delay</name>\\r\\n<pvcam id=\"0x06020208\"></pvcam>\\r\\n<value display=\"0 ms\">0</value>\\r\\n</param>\\r\\n<param id=\"{B4469E1F-FAE9-48EF-A56D-61AAD95FC8AA}\" type=\"enum\">\\r\\n<name>Shutter Open Mode</name>\\r\\n<pvcam id=\"0x09020209\"></pvcam>\\r\\n<value display=\"Pre-Exposure\">0x00000001</value>\\r\\n</param>\\r\\n<param id=\"{15F4C0DC-2426-4629-9E51-6AA4F218DBDE}\" type=\"enum\">\\r\\n<name>Shutter Status</name>\\r\\n<pvcam id=\"0x0902020A\"></pvcam>\\r\\n<value display=\"Fault\">0x00000000</value>\\r\\n</param>\\r\\n<param id=\"{30447CCE-5BFE-472F-AC45-A02A435897CC}\" type=\"string\">\\r\\n<name>System Name</name>\\r\\n<pvcam id=\"0x0D020082\"></pvcam>\\r\\n<value display=\"825_OEM_MON_SCI\">825_OEM_MON_SCI</value>\\r\\n</param>\\r\\n<param id=\"{ED583961-9257-418C-A04A-10E799EFBB0B}\" type=\"integer\">\\r\\n<name>Temperature</name>\\r\\n<pvcam id=\"0x0102020D\"></pvcam>\\r\\n<value display=\"17.35 °C\">1735</value>\\r\\n</param>\\r\\n<param id=\"{3FD8E3B3-303C-45A7-98A9-4D67FF76BC7F}\" type=\"integer\">\\r\\n<name>Temperature Setpoint</name>\\r\\n<pvcam id=\"0x0102020E\"></pvcam>\\r\\n<value display=\"0.00 °C\">0</value>\\r\\n</param>\\r\\n<param id=\"{1700821A-9F4F-49D4-859F-4DDB7511785A}\" type=\"string\">\\r\\n<name>Vendor Name</name>\\r\\n<pvcam id=\"0x0D020083\"></pvcam>\\r\\n<value display=\"Qimaging\">Qimaging</value>\\r\\n</param>\\r\\n</params>\\r\\n</camera-state>\\r\\n</pvcam-metadata>\\r\\n</attachments>\\r\\n<compatibility>\\r\\n<black>4609</black>\\r\\n<white>8920</white>\\r\\n</compatibility>\\r\\n</database>',\n",
       " '33827': 3,\n",
       " '33828': 1}"
      ]
     },
     "execution_count": 26,
     "metadata": {},
     "output_type": "execute_result"
    }
   ],
   "source": [
    "new_metadata"
   ]
  },
  {
   "cell_type": "code",
   "execution_count": 33,
   "metadata": {},
   "outputs": [],
   "source": [
    "with tiff.TiffFile(file, mode='r+') as tif:\n",
    "    _ = tif.pages[0].tags['XResolution'].overwrite((96000, 1000))"
   ]
  },
  {
   "cell_type": "code",
   "execution_count": 46,
   "metadata": {},
   "outputs": [],
   "source": [
    "with tiff.TiffFile(file, mode='r+') as tif:\n",
    "    _ = tif.pages[0].tags['XResolution'].overwrite((96000, 12560))\n",
    "    _ = tif.pages[0].tags['ResolutionUnit'].overwrite(6)"
   ]
  },
  {
   "cell_type": "code",
   "execution_count": 60,
   "metadata": {},
   "outputs": [],
   "source": [
    "from PIL import Image\n",
    "\n",
    "imm = Image.open('new_image.tif')"
   ]
  },
  {
   "cell_type": "code",
   "execution_count": 63,
   "metadata": {},
   "outputs": [
    {
     "data": {
      "text/plain": [
       "{'compression': 'raw', 'resolution': (6.0, 6.0)}"
      ]
     },
     "execution_count": 63,
     "metadata": {},
     "output_type": "execute_result"
    }
   ],
   "source": [
    "imm.info"
   ]
  },
  {
   "cell_type": "code",
   "execution_count": 65,
   "metadata": {},
   "outputs": [],
   "source": [
    "imm.info['resolution'] = (434.0, 13.0)\n",
    "imm.save('new_image-1.tif', format=\"TIFF\")"
   ]
  },
  {
   "cell_type": "code",
   "execution_count": 66,
   "metadata": {},
   "outputs": [
    {
     "name": "stdout",
     "output_type": "stream",
     "text": [
      "Histogram: [2 3 3 2 1]\n",
      "Bin Edges: [1.  1.8 2.6 3.4 4.2 5. ]\n"
     ]
    }
   ],
   "source": [
    "# Create an array of values\n",
    "data = np.array([1, 2, 3, 2, 4, 1, 5, 3, 2, 4, 3])\n",
    "\n",
    "# Compute the histogram\n",
    "hist, bins = np.histogram(data, bins=5)\n",
    "\n",
    "# Print the histogram values and bin edges\n",
    "print(\"Histogram:\", hist)\n",
    "print(\"Bin Edges:\", bins)"
   ]
  },
  {
   "cell_type": "code",
   "execution_count": 10,
   "metadata": {},
   "outputs": [],
   "source": [
    "import cv2\n",
    "\n",
    "# 加载图像数据\n",
    "image = cv2.imread(file, cv2.IMREAD_GRAYSCALE)"
   ]
  },
  {
   "cell_type": "code",
   "execution_count": 17,
   "metadata": {},
   "outputs": [],
   "source": [
    "tmp = cv2.equalizeHist(image)"
   ]
  },
  {
   "cell_type": "code",
   "execution_count": 20,
   "metadata": {},
   "outputs": [
    {
     "data": {
      "text/plain": [
       "True"
      ]
     },
     "execution_count": 20,
     "metadata": {},
     "output_type": "execute_result"
    }
   ],
   "source": [
    "cv2.imwrite('tmp.tif', tmp)"
   ]
  }
 ],
 "metadata": {
  "kernelspec": {
   "display_name": "Python 3",
   "language": "python",
   "name": "python3"
  },
  "language_info": {
   "codemirror_mode": {
    "name": "ipython",
    "version": 3
   },
   "file_extension": ".py",
   "mimetype": "text/x-python",
   "name": "python",
   "nbconvert_exporter": "python",
   "pygments_lexer": "ipython3",
   "version": "3.11.3"
  },
  "orig_nbformat": 4
 },
 "nbformat": 4,
 "nbformat_minor": 2
}
